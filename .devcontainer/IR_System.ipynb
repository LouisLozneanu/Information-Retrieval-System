{
 "cells": [
  {
   "cell_type": "code",
   "execution_count": 10,
   "metadata": {},
   "outputs": [
    {
     "ename": "ModuleNotFoundError",
     "evalue": "No module named 'scrapy'",
     "output_type": "error",
     "traceback": [
      "\u001b[0;31m---------------------------------------------------------------------------\u001b[0m",
      "\u001b[0;31mModuleNotFoundError\u001b[0m                       Traceback (most recent call last)",
      "Cell \u001b[0;32mIn[10], line 2\u001b[0m\n\u001b[1;32m      1\u001b[0m \u001b[38;5;66;03m# file: scrapy_crawler/spider.py\u001b[39;00m\n\u001b[0;32m----> 2\u001b[0m \u001b[38;5;28;01mimport\u001b[39;00m \u001b[38;5;21;01mscrapy\u001b[39;00m\n\u001b[1;32m      3\u001b[0m \u001b[38;5;28;01mfrom\u001b[39;00m \u001b[38;5;21;01mscrapy\u001b[39;00m\u001b[38;5;21;01m.\u001b[39;00m\u001b[38;5;21;01mcrawler\u001b[39;00m \u001b[38;5;28;01mimport\u001b[39;00m CrawlerProcess\n\u001b[1;32m      4\u001b[0m \u001b[38;5;28;01mfrom\u001b[39;00m \u001b[38;5;21;01mscrapy\u001b[39;00m\u001b[38;5;21;01m.\u001b[39;00m\u001b[38;5;21;01mutils\u001b[39;00m\u001b[38;5;21;01m.\u001b[39;00m\u001b[38;5;21;01mproject\u001b[39;00m \u001b[38;5;28;01mimport\u001b[39;00m get_project_settings\n",
      "\u001b[0;31mModuleNotFoundError\u001b[0m: No module named 'scrapy'"
     ]
    }
   ],
   "source": [
    "# file: scrapy_crawler/spider.py\n",
    "import scrapy\n",
    "from scrapy.crawler import CrawlerProcess\n",
    "from scrapy.utils.project import get_project_settings\n",
    "\n",
    "class DocumentSpider(scrapy.Spider):\n",
    "    name = \"document_spider\"\n",
    "    \n",
    "    def __init__(self, seed_url, max_pages, max_depth, *args, **kwargs):\n",
    "        super(DocumentSpider, self).__init__(*args, **kwargs)\n",
    "        self.start_urls = [seed_url]  # Seed URL\n",
    "        self.max_pages = max_pages    # Max pages to crawl\n",
    "        self.max_depth = max_depth    # Max depth of crawling\n",
    "        self.count = 0\n",
    "\n",
    "    def parse(self, response):\n",
    "        if self.count < self.max_pages:\n",
    "            page = response.url.split(\"/\")[-2]\n",
    "            filename = f'documents/{page}.html'\n",
    "            with open(filename, 'wb') as f:\n",
    "                f.write(response.body)\n",
    "            self.count += 1\n",
    "            yield from response.follow_all(css='a::attr(href)', callback=self.parse)\n",
    "\n",
    "# settings.py\n",
    "BOT_NAME = 'scrapy_crawler'\n",
    "SPIDER_MODULES = ['scrapy_crawler.spiders']\n",
    "NEWSPIDER_MODULE = 'scrapy_crawler.spiders'\n",
    "AUTOTHROTTLE_ENABLED = True  # Enable auto-throttle\n",
    "AUTOTHROTTLE_START_DELAY = 5\n",
    "AUTOTHROTTLE_MAX_DELAY = 60\n",
    "DEPTH_LIMIT = 3  # Max depth set here\n",
    "\n",
    "# command to run: scrapy crawl document_spider -a seed_url=http://example.com -a max_pages=100 -a max_depth=3\n"
   ]
  },
  {
   "cell_type": "code",
   "execution_count": 11,
   "metadata": {},
   "outputs": [
    {
     "ename": "ModuleNotFoundError",
     "evalue": "No module named 'sklearn'",
     "output_type": "error",
     "traceback": [
      "\u001b[0;31m---------------------------------------------------------------------------\u001b[0m",
      "\u001b[0;31mModuleNotFoundError\u001b[0m                       Traceback (most recent call last)",
      "Cell \u001b[0;32mIn[11], line 4\u001b[0m\n\u001b[1;32m      2\u001b[0m \u001b[38;5;28;01mimport\u001b[39;00m \u001b[38;5;21;01mos\u001b[39;00m\n\u001b[1;32m      3\u001b[0m \u001b[38;5;28;01mimport\u001b[39;00m \u001b[38;5;21;01mpickle\u001b[39;00m\n\u001b[0;32m----> 4\u001b[0m \u001b[38;5;28;01mfrom\u001b[39;00m \u001b[38;5;21;01msklearn\u001b[39;00m\u001b[38;5;21;01m.\u001b[39;00m\u001b[38;5;21;01mfeature_extraction\u001b[39;00m\u001b[38;5;21;01m.\u001b[39;00m\u001b[38;5;21;01mtext\u001b[39;00m \u001b[38;5;28;01mimport\u001b[39;00m TfidfVectorizer\n\u001b[1;32m      5\u001b[0m \u001b[38;5;28;01mfrom\u001b[39;00m \u001b[38;5;21;01msklearn\u001b[39;00m\u001b[38;5;21;01m.\u001b[39;00m\u001b[38;5;21;01mmetrics\u001b[39;00m\u001b[38;5;21;01m.\u001b[39;00m\u001b[38;5;21;01mpairwise\u001b[39;00m \u001b[38;5;28;01mimport\u001b[39;00m cosine_similarity\n\u001b[1;32m      7\u001b[0m \u001b[38;5;28;01mclass\u001b[39;00m \u001b[38;5;21;01mIndexer\u001b[39;00m:\n",
      "\u001b[0;31mModuleNotFoundError\u001b[0m: No module named 'sklearn'"
     ]
    }
   ],
   "source": [
    "# file: indexer.py\n",
    "import os\n",
    "import pickle\n",
    "from sklearn.feature_extraction.text import TfidfVectorizer\n",
    "from sklearn.metrics.pairwise import cosine_similarity\n",
    "\n",
    "class Indexer:\n",
    "    def __init__(self):\n",
    "        self.documents = []\n",
    "        self.vectorizer = TfidfVectorizer()\n",
    "\n",
    "    def add_document(self, file_path):\n",
    "        with open(file_path, 'r', encoding='utf-8') as file:\n",
    "            self.documents.append(file.read())\n",
    "\n",
    "    def create_index(self):\n",
    "        self.matrix = self.vectorizer.fit_transform(self.documents)\n",
    "\n",
    "    def save_index(self, path='index.pkl'):\n",
    "        with open(path, 'wb') as file:\n",
    "            pickle.dump((self.vectorizer, self.matrix), file)\n",
    "\n",
    "    def load_index(self, path='index.pkl'):\n",
    "        with open(path, 'rb') as file:\n",
    "            self.vectorizer, self.matrix = pickle.load(file)\n",
    "\n",
    "    def query(self, text, top_k=5):\n",
    "        query_vec = self.vectorizer.transform([text])\n",
    "        scores = cosine_similarity(query_vec, self.matrix)\n",
    "        return scores.argsort()[0][-top_k:][::-1]  # Top-K results\n",
    "\n",
    "# Usage\n",
    "indexer = Indexer()\n",
    "for document_file in os.listdir('documents'):\n",
    "    indexer.add_document(f'documents/{document_file}')\n",
    "indexer.create_index()\n",
    "indexer.save_index()\n"
   ]
  },
  {
   "cell_type": "code",
   "execution_count": 12,
   "metadata": {},
   "outputs": [
    {
     "ename": "ModuleNotFoundError",
     "evalue": "No module named 'flask'",
     "output_type": "error",
     "traceback": [
      "\u001b[0;31m---------------------------------------------------------------------------\u001b[0m",
      "\u001b[0;31mModuleNotFoundError\u001b[0m                       Traceback (most recent call last)",
      "Cell \u001b[0;32mIn[12], line 2\u001b[0m\n\u001b[1;32m      1\u001b[0m \u001b[38;5;66;03m# file: app.py\u001b[39;00m\n\u001b[0;32m----> 2\u001b[0m \u001b[38;5;28;01mfrom\u001b[39;00m \u001b[38;5;21;01mflask\u001b[39;00m \u001b[38;5;28;01mimport\u001b[39;00m Flask, request, jsonify\n\u001b[1;32m      3\u001b[0m \u001b[38;5;28;01mfrom\u001b[39;00m \u001b[38;5;21;01mindexer\u001b[39;00m \u001b[38;5;28;01mimport\u001b[39;00m Indexer\n\u001b[1;32m      5\u001b[0m app \u001b[38;5;241m=\u001b[39m Flask(\u001b[38;5;18m__name__\u001b[39m)\n",
      "\u001b[0;31mModuleNotFoundError\u001b[0m: No module named 'flask'"
     ]
    }
   ],
   "source": [
    "# file: app.py\n",
    "from flask import Flask, request, jsonify\n",
    "from indexer import Indexer\n",
    "\n",
    "app = Flask(__name__)\n",
    "indexer = Indexer()\n",
    "indexer.load_index()\n",
    "\n",
    "@app.route('/query', methods=['POST'])\n",
    "def query():\n",
    "    data = request.json\n",
    "    query_text = data.get('query')\n",
    "    top_k = data.get('top_k', 5)\n",
    "    if not query_text:\n",
    "        return jsonify({'error': 'No query provided'}), 400\n",
    "    results = indexer.query(query_text, top_k)\n",
    "    return jsonify({'results': results})\n",
    "\n",
    "if __name__ == '__main__':\n",
    "    app.run(debug=True)\n",
    "\n",
    "# Run this Flask app and use POST requests with JSON body {\"query\": \"example search\", \"top_k\": 5} to /query\n"
   ]
  }
 ],
 "metadata": {
  "kernelspec": {
   "display_name": "Python 3",
   "language": "python",
   "name": "python3"
  },
  "language_info": {
   "codemirror_mode": {
    "name": "ipython",
    "version": 3
   },
   "file_extension": ".py",
   "mimetype": "text/x-python",
   "name": "python",
   "nbconvert_exporter": "python",
   "pygments_lexer": "ipython3",
   "version": "3.10.13"
  }
 },
 "nbformat": 4,
 "nbformat_minor": 2
}
