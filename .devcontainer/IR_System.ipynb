{
 "cells": [
  {
   "cell_type": "code",
   "execution_count": 7,
   "metadata": {},
   "outputs": [
    {
     "ename": "ModuleNotFoundError",
     "evalue": "No module named 'scrapy'",
     "output_type": "error",
     "traceback": [
      "\u001b[0;31m---------------------------------------------------------------------------\u001b[0m",
      "\u001b[0;31mModuleNotFoundError\u001b[0m                       Traceback (most recent call last)",
      "Cell \u001b[0;32mIn[7], line 1\u001b[0m\n\u001b[0;32m----> 1\u001b[0m \u001b[38;5;28;01mimport\u001b[39;00m \u001b[38;5;21;01mscrapy\u001b[39;00m\n\u001b[1;32m      2\u001b[0m \u001b[38;5;28;01mfrom\u001b[39;00m \u001b[38;5;21;01mscrapy\u001b[39;00m\u001b[38;5;21;01m.\u001b[39;00m\u001b[38;5;21;01mcrawler\u001b[39;00m \u001b[38;5;28;01mimport\u001b[39;00m CrawlerProcess\n\u001b[1;32m      3\u001b[0m \u001b[38;5;28;01mfrom\u001b[39;00m \u001b[38;5;21;01mscrapy\u001b[39;00m\u001b[38;5;21;01m.\u001b[39;00m\u001b[38;5;21;01mutils\u001b[39;00m\u001b[38;5;21;01m.\u001b[39;00m\u001b[38;5;21;01mproject\u001b[39;00m \u001b[38;5;28;01mimport\u001b[39;00m get_project_settings\n",
      "\u001b[0;31mModuleNotFoundError\u001b[0m: No module named 'scrapy'"
     ]
    }
   ],
   "source": [
    "import scrapy\n",
    "from scrapy.crawler import CrawlerProcess\n",
    "from scrapy.utils.project import get_project_settings\n",
    "from scrapy.spiders import CrawlSpider, Rule\n",
    "from scrapy.linkextractors import LinkExtractor\n",
    "\n",
    "class DocumentCrawler(CrawlSpider):\n",
    "    name = \"document_crawler\"\n",
    "    custom_settings = {\n",
    "        'DEPTH_LIMIT': 3,    # Maximum depth of crawl (max_depth)\n",
    "        'CLOSESPIDER_PAGECOUNT': 100,  # Max pages to crawl\n",
    "        'AUTOTHROTTLE_ENABLED': True,  # Enable AutoThrottle\n",
    "        'HTTPCACHE_ENABLED': True,     # Enable caching\n",
    "        'ROBOTSTXT_OBEY': True\n",
    "    }\n",
    "\n",
    "    def __init__(self, *a, **kw):\n",
    "        super(DocumentCrawler, self).__init__(*a, **kw)\n",
    "        self.allowed_domains = [kw.get('domain')]  # Set the allowed domain from seed domain\n",
    "        self.start_urls = [f\"http://{kw.get('domain')}\"]  # Set the start URL\n",
    "\n",
    "    rules = (\n",
    "        Rule(LinkExtractor(), callback='parse_item', follow=True),\n",
    "    )\n",
    "\n",
    "    def parse_item(self, response):\n",
    "        filename = response.url.split(\"/\")[-2] + '.html'\n",
    "        with open(filename, 'wb') as f:\n",
    "            f.write(response.body)\n",
    "\n",
    "if __name__ == \"__main__\":\n",
    "    domain = 'example.com'  # Seed domain\n",
    "    process = CrawlerProcess(get_project_settings())\n",
    "    process.crawl(DocumentCrawler, domain=domain)\n",
    "    process.start()\n"
   ]
  },
  {
   "cell_type": "code",
   "execution_count": 8,
   "metadata": {},
   "outputs": [
    {
     "ename": "ModuleNotFoundError",
     "evalue": "No module named 'sklearn'",
     "output_type": "error",
     "traceback": [
      "\u001b[0;31m---------------------------------------------------------------------------\u001b[0m",
      "\u001b[0;31mModuleNotFoundError\u001b[0m                       Traceback (most recent call last)",
      "Cell \u001b[0;32mIn[8], line 3\u001b[0m\n\u001b[1;32m      1\u001b[0m \u001b[38;5;28;01mimport\u001b[39;00m \u001b[38;5;21;01mos\u001b[39;00m\n\u001b[1;32m      2\u001b[0m \u001b[38;5;28;01mimport\u001b[39;00m \u001b[38;5;21;01mpickle\u001b[39;00m\n\u001b[0;32m----> 3\u001b[0m \u001b[38;5;28;01mfrom\u001b[39;00m \u001b[38;5;21;01msklearn\u001b[39;00m\u001b[38;5;21;01m.\u001b[39;00m\u001b[38;5;21;01mfeature_extraction\u001b[39;00m\u001b[38;5;21;01m.\u001b[39;00m\u001b[38;5;21;01mtext\u001b[39;00m \u001b[38;5;28;01mimport\u001b[39;00m TfidfVectorizer\n\u001b[1;32m      4\u001b[0m \u001b[38;5;28;01mfrom\u001b[39;00m \u001b[38;5;21;01msklearn\u001b[39;00m\u001b[38;5;21;01m.\u001b[39;00m\u001b[38;5;21;01mmetrics\u001b[39;00m\u001b[38;5;21;01m.\u001b[39;00m\u001b[38;5;21;01mpairwise\u001b[39;00m \u001b[38;5;28;01mimport\u001b[39;00m cosine_similarity\n\u001b[1;32m      5\u001b[0m \u001b[38;5;28;01mimport\u001b[39;00m \u001b[38;5;21;01mnumpy\u001b[39;00m \u001b[38;5;28;01mas\u001b[39;00m \u001b[38;5;21;01mnp\u001b[39;00m\n",
      "\u001b[0;31mModuleNotFoundError\u001b[0m: No module named 'sklearn'"
     ]
    }
   ],
   "source": [
    "import os\n",
    "import pickle\n",
    "from sklearn.feature_extraction.text import TfidfVectorizer\n",
    "from sklearn.metrics.pairwise import cosine_similarity\n",
    "import numpy as np\n",
    "import glob\n",
    "\n",
    "class Indexer:\n",
    "    def __init__(self):\n",
    "        self.documents = []\n",
    "        self.tfidf_matrix = None\n",
    "        self.vectorizer = TfidfVectorizer()\n",
    "\n",
    "    def add_documents(self, folder_path):\n",
    "        for file_path in glob.glob(f\"{folder_path}/*.html\"):\n",
    "            with open(file_path, 'r', encoding='utf-8') as file:\n",
    "                self.documents.append(file.read())\n",
    "\n",
    "    def create_index(self):\n",
    "        self.tfidf_matrix = self.vectorizer.fit_transform(self.documents)\n",
    "\n",
    "    def save_index(self, filename='index.pkl'):\n",
    "        with open(filename, 'wb') as f:\n",
    "            pickle.dump((self.vectorizer, self.tfidf_matrix), f)\n",
    "\n",
    "    def query(self, text, top_k=5):\n",
    "        query_vec = self.vectorizer.transform([text])\n",
    "        scores = cosine_similarity(query_vec, self.tfidf_matrix)[0]\n",
    "        top_indices = np.argsort(scores)[::-1][:top_k]\n",
    "        return top_indices, np.sort(scores)[::-1][:top_k]\n",
    "\n",
    "indexer = Indexer()\n",
    "indexer.add_documents('./html_documents')  # Folder containing HTML documents\n",
    "indexer.create_index()\n",
    "indexer.save_index()\n"
   ]
  },
  {
   "cell_type": "code",
   "execution_count": 9,
   "metadata": {},
   "outputs": [
    {
     "ename": "SyntaxError",
     "evalue": "incomplete input (4041855115.py, line 22)",
     "output_type": "error",
     "traceback": [
      "\u001b[0;36m  Cell \u001b[0;32mIn[9], line 22\u001b[0;36m\u001b[0m\n\u001b[0;31m    results = {'documents': list(top\u001b[0m\n\u001b[0m                                    ^\u001b[0m\n\u001b[0;31mSyntaxError\u001b[0m\u001b[0;31m:\u001b[0m incomplete input\n"
     ]
    }
   ],
   "source": [
    "from flask import Flask, request, jsonify\n",
    "import pickle\n",
    "from sklearn.feature_extraction.text import TfidfVectorizer\n",
    "from sklearn.metrics.pairwise import cosine_similarity\n",
    "\n",
    "app = Flask(__name__)\n",
    "\n",
    "# Load the pre-computed index\n",
    "with open('index.pkl', 'rb') as f:\n",
    "    vectorizer, tfidf_matrix = pickle.load(f)\n",
    "\n",
    "@app.route('/query', methods=['POST'])\n",
    "def query():\n",
    "    content = request.json\n",
    "    try:\n",
    "        text = content['query']\n",
    "        top_k = int(content.get('top_k', 5))\n",
    "        query_vec = vectorizer.transform([text])\n",
    "        scores = cosine_similarity(query_vec, tfidf_matrix)[0]\n",
    "        top_indices = scores.argsort()[-top_k:][::-1]\n",
    "        result_scores = scores[top_indices]\n",
    "        results = {'documents': list(top\n"
   ]
  }
 ],
 "metadata": {
  "kernelspec": {
   "display_name": "Python 3",
   "language": "python",
   "name": "python3"
  },
  "language_info": {
   "codemirror_mode": {
    "name": "ipython",
    "version": 3
   },
   "file_extension": ".py",
   "mimetype": "text/x-python",
   "name": "python",
   "nbconvert_exporter": "python",
   "pygments_lexer": "ipython3",
   "version": "3.10.13"
  }
 },
 "nbformat": 4,
 "nbformat_minor": 2
}
